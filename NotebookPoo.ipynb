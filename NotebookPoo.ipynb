{
 "cells": [
  {
   "cell_type": "markdown",
   "metadata": {},
   "source": [
    "<font size=\"5\">Programacion Orientada a Objetos</font>\n",
    "\n",
    "La Programación Orientada a Objetos, tambien llamada POO por sus siglas, es un paradigma de programación que se basa en el concepto de “objetos” como elementos fundamentales de la estructura y organización del código. Este enfoque permite a los desarrolladores crear programas utilizando bloques de construcción que representan entidades o conceptos del mundo real.\n",
    "\n",
    "Cada objeto es una instancia de una clase, la cual define tanto los datos que contiene (atributos) como las operaciones que pueden realizarse sobre esos datos (métodos). Además de proporcionar una estructura clara, la POO facilita la reutilización de código y el aislamiento de componentes, lo que puede mejorar significativamente la mantenibilidad y escalabilidad de las aplicaciones de software.\n",
    "\n",
    "Un objeto se define como una instancia concreta de una clase. Cada clase actúa como una plantilla o un modelo que especifica las propiedades y comportamientos que serán comunes a todos los objetos derivados de esa clase. Así, un objeto es una entidad individual que encapsula datos y funcionalidades bajo un solo techo.\n",
    "\n",
    "La programacion orientada a objetos se basa en 4 principios\n",
    "\n",
    "<font size=\"4\">Encapsulacion</font>\n",
    "\n",
    "Consiste en hacer que los datos sean modificados únicamente por las funciones destinadas a tal efecto. La encapsulación permite que los datos conserven un estado válido y consistente, trata de evitar que cualquier código pueda modificar una estructura de datos con el consiguiente problema de generación de inconsistencias.\n",
    "\n",
    "<font size=\"4\">Abstraccion</font>\n",
    "\n",
    "Las clases son la abstracción de los conceptos que maneja la aplicación, pueden ser conceptos que existan en el mundo real pero simplificados al tener únicamente las propiedades relevantes para la aplicación. Las clases también pueden ser conceptos que no tengan una existencia física en el mundo real como una lista de elementos, una dirección IP o un archivo de ordenador.\n",
    "Por ejemplo; Un avión es un objeto físico del mundo real con multitud de propiedades, desde su fabricante y modelo, color, tamaño, numero de asientos, ubicación, capacidad de carga, peso, año de diseño y fabricación, materiales de fabricación, altitud, posición GPS, dirección, velocidad y distancia máxima y muchas otras.\n",
    "\n",
    "<font size=\"4\">Objetos, clases e instancias</font>\n",
    "\n",
    "Los objetos y clases encapsulan los datos y definen la colección de funciones que los manipulan. Las clases son la definición de los objetos en tiempo de compilación y las instancias son la creación en tiempo de ejecución de una clase, en tiempo de ejecución un programa puede crear tantas instancias de una clase como desee, al crear la instancia se reserva la memoria para el conjunto de datos de la clase."
   ]
  },
  {
   "cell_type": "code",
   "execution_count": 2,
   "metadata": {},
   "outputs": [
    {
     "name": "stdout",
     "output_type": "stream",
     "text": [
      "Leonardo Caballero V-26938401 M\n"
     ]
    }
   ],
   "source": [
    "class Persona:\n",
    "    \"\"\"Clase que representa una Persona\"\"\"\n",
    "\n",
    "    cedula = \"V-26938401\"\n",
    "    nombre = \"Leonardo\"\n",
    "    apellido = \"Caballero\"\n",
    "    sexo = \"M\"\n",
    "\n",
    "Leonardo = Persona\n",
    "print(Leonardo.nombre, Leonardo.apellido, Leonardo.cedula, Leonardo.sexo)"
   ]
  },
  {
   "cell_type": "markdown",
   "metadata": {},
   "source": [
    "<font size=\"4\">Metodos</font>\n",
    "\n",
    "Los métodos describen el comportamiento de los objetos de una clase. Estos representan las operaciones que se pueden realizar con los objetos de la clase,\n",
    "La ejecución de un método puede conducir a cambiar el estado del objeto.\n",
    "Se definen de la misma forma que las funciones normales pero deben declararse dentro de la clase y su primer argumento siempre referencia a la instancia que la llama, de esta forma se afirma que los métodos son funciones, adjuntadas a objectos."
   ]
  },
  {
   "cell_type": "code",
   "execution_count": 4,
   "metadata": {},
   "outputs": [],
   "source": [
    "class Persona:\n",
    "    \"\"\"Clase que representa una Persona\"\"\"\n",
    "\n",
    "    cedula = \"V-26938401\"\n",
    "    nombre = \"Leonardo\"\n",
    "    apellido = \"Caballero\"\n",
    "    sexo = \"M\"\n",
    "\n",
    "    def hablar(self, mensaje):\n",
    "        \"\"\"Mostrar mensaje de saludo de Persona\"\"\"\n",
    "        return mensaje"
   ]
  },
  {
   "cell_type": "markdown",
   "metadata": {},
   "source": [
    "La única diferencia sintáctica entre la definición de un método y la definición de una función es que el primer parámetro del método por convención debe ser el nombre self."
   ]
  },
  {
   "cell_type": "markdown",
   "metadata": {},
   "source": [
    "<font size=\"4\">Herencia</font>\n",
    "\n",
    "La herencia es una de las premisas y técnicas de la POO la cual permite a los programadores crear una clase general primero y luego más tarde crear clases más especializadas que re-utilicen código de la clase general. La herencia también le permite escribir un código más limpio y legible."
   ]
  },
  {
   "cell_type": "code",
   "execution_count": null,
   "metadata": {},
   "outputs": [],
   "source": [
    "class Persona:\n",
    "    \"\"\"Clase que representa una Persona\"\"\"\n",
    "\n",
    "    def __init__(self, cedula, nombre, apellido, sexo):\n",
    "        \"\"\"Constructor de clase Persona\"\"\"\n",
    "        self.cedula = cedula\n",
    "        self.nombre = nombre\n",
    "        self.apellido = apellido\n",
    "        self.sexo = sexo\n",
    "\n",
    "    def __str__(self):\n",
    "        \"\"\"Devuelve una cadena representativa de Persona\"\"\"\n",
    "        return \"{}: {}, {} {}, {}.\".format(\n",
    "            self.__doc__[25:34],\n",
    "            str(self.cedula),\n",
    "            self.nombre,\n",
    "            self.apellido,\n",
    "            self.obtener_genero(self.sexo),\n",
    "        )\n",
    "\n",
    "    def hablar(self, mensaje):\n",
    "        \"\"\"Mostrar mensaje de saludo de Persona\"\"\"\n",
    "        return mensaje\n",
    "\n",
    "    def obtener_genero(self, sexo):\n",
    "        \"\"\"Mostrar el genero de la Persona\"\"\"\n",
    "        genero = (\"Masculino\", \"Femenino\")\n",
    "        if sexo == \"M\":\n",
    "            return genero[0]\n",
    "        elif sexo == \"F\":\n",
    "            return genero[1]\n",
    "        else:\n",
    "            return \"Desconocido\"\n"
   ]
  },
  {
   "cell_type": "markdown",
   "metadata": {},
   "source": [
    "En el ejemplo previo, es donde empieza a crear una clase (lo hace con la palabra class). La segunda palabra Persona es el nombre de la clase. La tercera palabra que se encuentra dentro de los paréntesis este hace referencia al objeto object, usando para indicar la clase de la cual precede.\n",
    "La clase Persona tiene los métodos __init__, __str__, hablar y obtener_genero. Sus atributos son cedula, nombre, apellido y sexo.\n",
    "La instancia de 2 nuevas personas seria asi"
   ]
  },
  {
   "cell_type": "code",
   "execution_count": null,
   "metadata": {},
   "outputs": [],
   "source": [
    "persona1 = Persona(\"V-26938401\", \"Leonardo\", \"Caballero\", \"M\")\n",
    "persona2 = Persona(\"V-23569874\", \"Ana\", \"Poleo\", \"F\")"
   ]
  },
  {
   "cell_type": "markdown",
   "metadata": {},
   "source": [
    "<font size=\"4\">Polimorfismo</font>\n",
    "\n",
    "El polimorfismo es un concepto de la programación orientada a objetos (OOP) que se refiere a la capacidad de un objeto de tomar diferentes formas según el contexto.\n",
    "Una operación puede presentar diferentes comportamientos en diferentes instancias. El comportamiento depende de los tipos de datos utilizados en la operación. El polimorfismo es ampliamente utilizado en la aplicación de la herencia."
   ]
  },
  {
   "cell_type": "code",
   "execution_count": null,
   "metadata": {},
   "outputs": [],
   "source": [
    "class Animal:\n",
    "    # Constructor\n",
    "    def __init__(self, nombre):\n",
    "        self.nombre = nombre\n",
    "\n",
    "    # Método para hablar\n",
    "    def hablar(self):\n",
    "        print(f\"Soy un animal. Me llamo {self.nombre}.\")\n",
    "\n",
    "class Perro(Animal):\n",
    "    # Método para hablar\n",
    "    def hablar(self):\n",
    "        print(f\"Soy un perro. Me llamo {self.nombre}. Woof.\")\n",
    "\n",
    "class Gato(Animal):\n",
    "    # Método para hablar\n",
    "    def hablar(self):\n",
    "        print(f\"Soy un gato. Me llamo {self.nombre}. Miao.\")\n"
   ]
  },
  {
   "cell_type": "markdown",
   "metadata": {},
   "source": [
    "En este metodo se usa el polimorfismo de subtipos o dinámico, donde el método a invocar se determina en tiempo de ejecución según el tipo del objeto. Por ejemplo, podemos crear una clase Animal que tiene un método hablar y dos subclases Perro y Gato que heredan de Animal y redefinen el método hablar."
   ]
  },
  {
   "cell_type": "code",
   "execution_count": 6,
   "metadata": {},
   "outputs": [
    {
     "name": "stdout",
     "output_type": "stream",
     "text": [
      "Soy un animal. Me llamo Lola.\n",
      "Soy un perro. Me llamo Firulais. Guau.\n",
      "Soy un gato. Me llamo Pelusa. Miau.\n"
     ]
    }
   ],
   "source": [
    "a = Animal(\"Lola\")\n",
    "p = Perro(\"Firulais\")\n",
    "g = Gato(\"Pelusa\")\n",
    "\n",
    "a.hablar()\n",
    "p.hablar()\n",
    "g.hablar()"
   ]
  }
 ],
 "metadata": {
  "kernelspec": {
   "display_name": "Python 3",
   "language": "python",
   "name": "python3"
  },
  "language_info": {
   "codemirror_mode": {
    "name": "ipython",
    "version": 3
   },
   "file_extension": ".py",
   "mimetype": "text/x-python",
   "name": "python",
   "nbconvert_exporter": "python",
   "pygments_lexer": "ipython3",
   "version": "3.12.2"
  }
 },
 "nbformat": 4,
 "nbformat_minor": 2
}
